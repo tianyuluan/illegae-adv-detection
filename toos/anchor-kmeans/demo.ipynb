{
 "cells": [
  {
   "cell_type": "code",
   "execution_count": 38,
   "metadata": {},
   "outputs": [],
   "source": [
    "import numpy as np\n",
    "from kmeans import AnchorKmeans\n",
    "from datasets import AnnotParser\n",
    "from matplotlib import pyplot as plt\n",
    "from matplotlib.patches import Rectangle\n",
    "%matplotlib inline\n",
    "\n",
    "plt.style.use('ggplot')"
   ]
  },
  {
   "cell_type": "code",
   "execution_count": 39,
   "metadata": {},
   "outputs": [
    {
     "name": "stdout",
     "output_type": "stream",
     "text": [
      "[INFO] Load datas\n",
      "[[0.3890625  0.1625    ]\n",
      " [0.328125   0.09375   ]\n",
      " [0.04583333 0.10625   ]\n",
      " ...\n",
      " [0.11458333 0.0859375 ]\n",
      " [0.18541667 0.0890625 ]\n",
      " [0.17083333 0.03125   ]]\n",
      "boxes shape : (4989, 2)\n"
     ]
    }
   ],
   "source": [
    "print('[INFO] Load datas')\n",
    "# xml的路径\n",
    "annot_dir = \"annotations\"\n",
    "parser = AnnotParser('xml')\n",
    "boxes = parser.parse_xml(annot_dir)\n",
    "print(boxes)\n",
    "print('boxes shape : {}'.format(boxes.shape))"
   ]
  },
  {
   "cell_type": "code",
   "execution_count": 52,
   "metadata": {},
   "outputs": [
    {
     "name": "stdout",
     "output_type": "stream",
     "text": [
      "[INFO] Run anchor k-means with k = 2,3,...,10\n",
      "K = 2, Avg IOU = 0.4487\n",
      "K = 3, Avg IOU = 0.4943\n",
      "K = 4, Avg IOU = 0.5400\n",
      "K = 5, Avg IOU = 0.5655\n",
      "K = 6, Avg IOU = 0.5865\n",
      "K = 7, Avg IOU = 0.6074\n",
      "K = 8, Avg IOU = 0.6302\n",
      "K = 9, Avg IOU = 0.6432\n",
      "K = 10, Avg IOU = 0.6552\n",
      "K = 11, Avg IOU = 0.6680\n",
      "K = 12, Avg IOU = 0.6775\n",
      "K = 13, Avg IOU = 0.6853\n",
      "K = 14, Avg IOU = 0.6913\n",
      "K = 15, Avg IOU = 0.6987\n",
      "K = 16, Avg IOU = 0.7084\n",
      "K = 17, Avg IOU = 0.7159\n",
      "K = 18, Avg IOU = 0.7191\n",
      "K = 19, Avg IOU = 0.7250\n"
     ]
    }
   ],
   "source": [
    "print('[INFO] Run anchor k-means with k = 2,3,...,10')\n",
    "results = {}\n",
    "maxk = 20\n",
    "for k in range(2, maxk):\n",
    "    model = AnchorKmeans(k, random_seed=333)\n",
    "    model.fit(boxes)\n",
    "    avg_iou = model.avg_iou()\n",
    "    results[k] = {'anchors': model.anchors_, 'avg_iou': avg_iou}\n",
    "    print(\"K = {}, Avg IOU = {:.4f}\".format(k, avg_iou))"
   ]
  },
  {
   "cell_type": "code",
   "execution_count": 53,
   "metadata": {},
   "outputs": [
    {
     "name": "stdout",
     "output_type": "stream",
     "text": [
      "[INFO] Plot average IOU curve\n"
     ]
    },
    {
     "data": {
      "image/png": "[encoded data removed]",
      "text/plain": [
       "<Figure size 432x288 with 1 Axes>"
      ]
     },
     "metadata": {},
     "output_type": "display_data"
    }
   ],
   "source": [
    "print('[INFO] Plot average IOU curve')\n",
    "plt.figure()\n",
    "plt.plot(range(2, maxk), [results[k][\"avg_iou\"] for k in range(2, maxk)], \"o-\")\n",
    "plt.ylabel(\"Avg IOU\")\n",
    "plt.xlabel(\"K (#anchors)\")\n",
    "plt.show()"
   ]
  },
  {
   "cell_type": "code",
   "execution_count": 54,
   "metadata": {},
   "outputs": [
    {
     "name": "stdout",
     "output_type": "stream",
     "text": [
      "[INFO] The result anchors:\n",
      "[[0.51200299 0.23813556]\n",
      " [0.24187866 0.27790654]\n",
      " [0.36868524 0.10342567]\n",
      " [0.82728358 0.30149357]\n",
      " [0.10597548 0.06624391]\n",
      " [0.10839901 0.1983257 ]]\n"
     ]
    }
   ],
   "source": [
    "print('[INFO] The result anchors:')\n",
    "best_k = 6\n",
    "anchors = results[best_k]['anchors']\n",
    "print(anchors)"
   ]
  },
  {
   "cell_type": "code",
   "execution_count": null,
   "metadata": {},
   "outputs": [],
   "source": []
  },
  {
   "cell_type": "code",
   "execution_count": 55,
   "metadata": {},
   "outputs": [
    {
     "name": "stdout",
     "output_type": "stream",
     "text": [
      "[INFO] Visualizing anchors\n",
      "[[-153  -71  307  143]\n",
      " [ -72  -83  145  167]\n",
      " [-110  -31  221   62]\n",
      " [-248  -90  496  181]\n",
      " [ -32  -20   64   40]\n",
      " [ -32  -59   65  119]]\n"
     ]
    },
    {
     "data": {
      "image/png": "[encoded data removed]",
      "text/plain": [
       "<Figure size 576x432 with 1 Axes>"
      ]
     },
     "metadata": {},
     "output_type": "display_data"
    }
   ],
   "source": [
    "print('[INFO] Visualizing anchors')\n",
    "w_img, h_img = 600, 600\n",
    "\n",
    "anchors[:, 0] *= w_img\n",
    "anchors[:, 1] *= h_img\n",
    "anchors = np.round(anchors).astype(np.int)\n",
    "\n",
    "rects = np.empty((best_k, 4), dtype=np.int)\n",
    "for i in range(len(anchors)):\n",
    "    w, h = anchors[i]\n",
    "    x1, y1 = -(w // 2), -(h // 2)\n",
    "    rects[i] = [x1, y1, w, h]\n",
    "print(rects)\n",
    "fig = plt.figure(figsize=(8, 6))\n",
    "ax = fig.add_subplot()\n",
    "for rect in rects:\n",
    "    x1, y1, w, h = rect\n",
    "    rect1 = Rectangle((x1, y1), w, h, color='royalblue', fill=False, linewidth=2)\n",
    "    ax.add_patch(rect1)\n",
    "plt.xlim([-(w_img // 2), w_img // 2])\n",
    "plt.ylim([-(h_img // 2), h_img // 2])\n",
    "\n",
    "plt.show()"
   ]
  },
  {
   "cell_type": "code",
   "execution_count": null,
   "metadata": {},
   "outputs": [],
   "source": []
  }
 ],
 "metadata": {
  "kernelspec": {
   "display_name": "Python 3",
   "language": "python",
   "name": "python3"
  },
  "language_info": {
   "codemirror_mode": {
    "name": "ipython",
    "version": 3
   },
   "file_extension": ".py",
   "mimetype": "text/x-python",
   "name": "python",
   "nbconvert_exporter": "python",
   "pygments_lexer": "ipython3",
   "version": "3.8.3"
  },
  "toc": {
   "base_numbering": 1,
   "nav_menu": {},
   "number_sections": true,
   "sideBar": true,
   "skip_h1_title": false,
   "title_cell": "Table of Contents",
   "title_sidebar": "Contents",
   "toc_cell": false,
   "toc_position": {},
   "toc_section_display": true,
   "toc_window_display": true
  }
 },
 "nbformat": 4,
 "nbformat_minor": 2
}
